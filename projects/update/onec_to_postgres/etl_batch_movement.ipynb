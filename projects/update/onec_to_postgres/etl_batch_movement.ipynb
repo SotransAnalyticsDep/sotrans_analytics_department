{
 "cells": [
  {
   "cell_type": "markdown",
   "id": "dbf5db67",
   "metadata": {},
   "source": [
    "# IMPORTS"
   ]
  },
  {
   "cell_type": "code",
   "execution_count": null,
   "id": "00095595",
   "metadata": {},
   "outputs": [],
   "source": [
    "import os\n",
    "import sys\n",
    "import datetime as dt\n",
    "from queue import Queue\n",
    "\n",
    "import pandas as pd\n",
    "from sqlalchemy import create_engine, Engine\n",
    "from tqdm import tqdm\n",
    "from loguru import logger\n",
    "\n",
    "sys.path.append(r'C:\\Users\\user\\Desktop\\github\\sotrans_analytics_department')\n",
    "from source.database import PostgresConnector"
   ]
  },
  {
   "cell_type": "markdown",
   "id": "fe7fc898",
   "metadata": {},
   "source": [
    "# SETTINGS"
   ]
  },
  {
   "cell_type": "code",
   "execution_count": null,
   "id": "9927d266",
   "metadata": {},
   "outputs": [],
   "source": [
    "logger.remove()\n",
    "logger.add(\n",
    "    sys.stderr, \n",
    "    level='TRACE'\n",
    ")"
   ]
  },
  {
   "cell_type": "markdown",
   "id": "3918c7b1",
   "metadata": {},
   "source": [
    "# CONSTANTS"
   ]
  },
  {
   "cell_type": "code",
   "execution_count": null,
   "id": "501b093b",
   "metadata": {},
   "outputs": [],
   "source": [
    "PG_CONN: PostgresConnector = PostgresConnector()"
   ]
  },
  {
   "cell_type": "code",
   "execution_count": null,
   "id": "2f3a1a6e",
   "metadata": {},
   "outputs": [],
   "source": [
    "SRC_FOLDER: str = r'C:\\Users\\user\\YandexDisk\\batch_movement\\batch_movement'"
   ]
  },
  {
   "cell_type": "code",
   "execution_count": null,
   "id": "d1aba372",
   "metadata": {},
   "outputs": [],
   "source": [
    "TABLES: dict[str, str] = {\n",
    "    # Таблицы: Начального остатка\n",
    "    'st': [\n",
    "        'init'\n",
    "    ],\n",
    "    \n",
    "    # Таблицы: Приходов\n",
    "    'in': [\n",
    "        'complect',\n",
    "        'decomplect',\n",
    "        'entering',\n",
    "        'inventory',\n",
    "        'movement',\n",
    "        'receipt',\n",
    "        'resort',\n",
    "        'update'\n",
    "    ],\n",
    "    # Таблицы: Расходов\n",
    "    'ex': [\n",
    "        'complect',\n",
    "        'decomplect',\n",
    "        'inventory',\n",
    "        'movement',\n",
    "        'resort',\n",
    "        'sale',\n",
    "        'update',\n",
    "        'write_off'\n",
    "    ],\n",
    "    \n",
    "    # Таблицы: Конечного остатка\n",
    "    'en': [\n",
    "        'final'\n",
    "    ],\n",
    "\n",
    "    # Таблицы: Товаров в пути\n",
    "    'tr': [\n",
    "        'transfer'\n",
    "    ]\n",
    "}"
   ]
  },
  {
   "cell_type": "markdown",
   "id": "6a60d80a",
   "metadata": {},
   "source": [
    "# FUNCTIONS"
   ]
  },
  {
   "cell_type": "code",
   "execution_count": null,
   "id": "6c6154e1",
   "metadata": {},
   "outputs": [],
   "source": [
    "def get_datetime_from_filename(filename: str) -> dt.datetime:\n",
    "    try:\n",
    "        report_date: str = filename.rsplit(sep='\\\\', maxsplit=1)[-1][:10]\n",
    "        logger.trace(f'Дата файла: {report_date}')\n",
    "        return dt.datetime.strptime(report_date, '%Y.%m.%d')\n",
    "    \n",
    "    except Exception as exc:\n",
    "        logger.error(f'Не удалось получить дату из названия файла {filename}: {exc}')"
   ]
  },
  {
   "cell_type": "markdown",
   "id": "3f90521e",
   "metadata": {},
   "source": [
    "## Основные функции"
   ]
  },
  {
   "cell_type": "code",
   "execution_count": null,
   "id": "47a574d5",
   "metadata": {},
   "outputs": [],
   "source": [
    "def create_dataframe(\n",
    "        filepath: str\n",
    ") -> pd.DataFrame:\n",
    "    logger.debug(f'Старт формирования DataFrame из файла {filepath}')\n",
    "    "
   ]
  },
  {
   "cell_type": "markdown",
   "id": "4f7df69c",
   "metadata": {},
   "source": [
    "# Main Algorithm"
   ]
  },
  {
   "cell_type": "code",
   "execution_count": null,
   "id": "ba3e2f86",
   "metadata": {},
   "outputs": [],
   "source": [
    "for filepath in tqdm(\n",
    "        iterable=os.listdir(SRC_FOLDER)[:-1],\n",
    "        total=len(os.listdir(SRC_FOLDER)),\n",
    "        desc='Загрузка файлов из SRC_FOLDER',\n",
    "        unit='files',\n",
    "        leave=True\n",
    "):\n",
    "    if not filepath.endswith('.xlsx') or filepath.startswith('~'):\n",
    "        logger.warning(f'{filepath} не является файлом Excel')\n",
    "        continue\n",
    "    \n",
    "    # Получение даты из названия файла\n",
    "    report_date: dt.datetime = get_datetime_from_filename(filename=filepath)\n",
    "    \n",
    "    "
   ]
  },
  {
   "cell_type": "code",
   "execution_count": null,
   "id": "0dbde589",
   "metadata": {},
   "outputs": [],
   "source": []
  },
  {
   "cell_type": "code",
   "execution_count": null,
   "id": "a32d69b2",
   "metadata": {},
   "outputs": [],
   "source": []
  },
  {
   "cell_type": "code",
   "execution_count": null,
   "id": "15332024",
   "metadata": {},
   "outputs": [],
   "source": []
  },
  {
   "cell_type": "code",
   "execution_count": null,
   "id": "c7ba169f",
   "metadata": {},
   "outputs": [],
   "source": []
  },
  {
   "cell_type": "code",
   "execution_count": null,
   "id": "bf3f36be",
   "metadata": {},
   "outputs": [],
   "source": []
  },
  {
   "cell_type": "code",
   "execution_count": null,
   "id": "c7eeb74c",
   "metadata": {},
   "outputs": [],
   "source": []
  },
  {
   "cell_type": "markdown",
   "id": "3007434a",
   "metadata": {},
   "source": [
    "## Начальный Остаток"
   ]
  },
  {
   "cell_type": "code",
   "execution_count": null,
   "id": "3a398afe",
   "metadata": {},
   "outputs": [],
   "source": []
  },
  {
   "cell_type": "markdown",
   "id": "1e433489",
   "metadata": {},
   "source": [
    "## Приход"
   ]
  },
  {
   "cell_type": "code",
   "execution_count": null,
   "id": "c27bf360",
   "metadata": {},
   "outputs": [],
   "source": []
  },
  {
   "cell_type": "markdown",
   "id": "f8549672",
   "metadata": {},
   "source": [
    "## Расход"
   ]
  },
  {
   "cell_type": "code",
   "execution_count": null,
   "id": "93b3c86d",
   "metadata": {},
   "outputs": [],
   "source": []
  },
  {
   "cell_type": "markdown",
   "id": "3ef00ab2",
   "metadata": {},
   "source": [
    "## Конечный Остаток"
   ]
  },
  {
   "cell_type": "code",
   "execution_count": null,
   "id": "f59cce6d",
   "metadata": {},
   "outputs": [],
   "source": []
  },
  {
   "cell_type": "markdown",
   "id": "30c1dc00",
   "metadata": {},
   "source": [
    "## Товары в Пути"
   ]
  },
  {
   "cell_type": "code",
   "execution_count": null,
   "id": "3ba15605",
   "metadata": {},
   "outputs": [],
   "source": []
  }
 ],
 "metadata": {
  "kernelspec": {
   "display_name": ".venv (3.12.8)",
   "language": "python",
   "name": "python3"
  },
  "language_info": {
   "codemirror_mode": {
    "name": "ipython",
    "version": 3
   },
   "file_extension": ".py",
   "mimetype": "text/x-python",
   "name": "python",
   "nbconvert_exporter": "python",
   "pygments_lexer": "ipython3",
   "version": "3.12.8"
  }
 },
 "nbformat": 4,
 "nbformat_minor": 5
}
