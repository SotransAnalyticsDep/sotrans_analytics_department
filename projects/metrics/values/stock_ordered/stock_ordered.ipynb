{
 "cells": [
  {
   "cell_type": "code",
   "execution_count": 1,
   "id": "80941884",
   "metadata": {},
   "outputs": [],
   "source": [
    "import sys\n",
    "import datetime as dt\n",
    "from getpass import getuser\n",
    "\n",
    "import pandas as pd\n",
    "from sqlalchemy import text\n",
    "\n",
    "sys.path.append(r'C:\\Users\\user\\Desktop\\github\\sotrans_analytics_department')\n",
    "from source.core.de.serving.datamart.modules.config import DEFAULT_ENGINE"
   ]
  },
  {
   "cell_type": "code",
   "execution_count": 2,
   "id": "21819492",
   "metadata": {},
   "outputs": [],
   "source": [
    "ROOT_FOLDER: str = r'C:\\Users\\user\\Desktop\\github\\sotrans_analytics_department'\n",
    "TRADE_FOLDER: str = r'\\\\192.168.101.228\\Trade'"
   ]
  },
  {
   "cell_type": "code",
   "execution_count": 3,
   "id": "30bc6bad",
   "metadata": {},
   "outputs": [],
   "source": [
    "CURRENT_ORDERS_FILE: str = rf'{TRADE_FOLDER}\\2025\\Orders\\Подтвержденные заказы 2025.xlsx'"
   ]
  },
  {
   "cell_type": "code",
   "execution_count": 4,
   "id": "a36cd7aa",
   "metadata": {},
   "outputs": [],
   "source": [
    "# Сформировать датафрейм по текущим размещённым заказам;\n",
    "orders: pd.DataFrame = pd.read_excel(\n",
    "    io=CURRENT_ORDERS_FILE,\n",
    "    engine='openpyxl',\n",
    "    usecols=[1, 7, 17, 20, 26, 27],\n",
    "    skiprows=1\n",
    ")"
   ]
  },
  {
   "cell_type": "code",
   "execution_count": 5,
   "id": "84d8bb69",
   "metadata": {},
   "outputs": [],
   "source": [
    "# Переименование столбцов;\n",
    "orders: pd.DataFrame = (\n",
    "    orders\n",
    "    .rename(\n",
    "        columns={\n",
    "            'Код 1С': 'sku_id_1c',\n",
    "            'Заказано кол-во ': 'ordered_cnt',\n",
    "            'Бэкордер кол-во': 'backorder_cnt',\n",
    "            'Отгруж кол-во': 'shipped_cnt',\n",
    "            'Текущий статус': 'order_status',\n",
    "            'Ожидаемая дата прихода на склад': 'arrival_date'\n",
    "        }\n",
    "    )\n",
    ")"
   ]
  },
  {
   "cell_type": "code",
   "execution_count": 6,
   "id": "6201b756",
   "metadata": {},
   "outputs": [
    {
     "name": "stdout",
     "output_type": "stream",
     "text": [
      "<class 'pandas.core.frame.DataFrame'>\n",
      "RangeIndex: 1245 entries, 0 to 1244\n",
      "Data columns (total 6 columns):\n",
      " #   Column         Non-Null Count  Dtype         \n",
      "---  ------         --------------  -----         \n",
      " 0   sku_id_1c      839 non-null    object        \n",
      " 1   ordered_cnt    1241 non-null   float64       \n",
      " 2   backorder_cnt  1244 non-null   float64       \n",
      " 3   shipped_cnt    0 non-null      float64       \n",
      " 4   order_status   359 non-null    object        \n",
      " 5   arrival_date   176 non-null    datetime64[ns]\n",
      "dtypes: datetime64[ns](1), float64(3), object(2)\n",
      "memory usage: 58.5+ KB\n"
     ]
    }
   ],
   "source": [
    "orders.info()"
   ]
  },
  {
   "cell_type": "code",
   "execution_count": 7,
   "id": "cf858550",
   "metadata": {},
   "outputs": [],
   "source": [
    "# Фильтрация пропусков;\n",
    "orders: pd.DataFrame = orders.dropna(subset='sku_id_1c')\n",
    "orders: pd.DataFrame = orders[orders['sku_id_1c'] != '        ']"
   ]
  },
  {
   "cell_type": "code",
   "execution_count": 8,
   "id": "40488030",
   "metadata": {},
   "outputs": [],
   "source": [
    "# Приведение к нижнему регистру;\n",
    "orders['sku_id_1c'] = orders['sku_id_1c'].str.lower()\n",
    "orders['order_status'] = orders['order_status'].str.lower()"
   ]
  },
  {
   "cell_type": "code",
   "execution_count": 9,
   "id": "19de4290",
   "metadata": {},
   "outputs": [],
   "source": [
    "# Замена пропусков в shipped_cnt;\n",
    "orders.loc[:, 'shipped_cnt'] = orders['shipped_cnt'].fillna(value=0)"
   ]
  },
  {
   "cell_type": "code",
   "execution_count": 10,
   "id": "55964bc3",
   "metadata": {},
   "outputs": [],
   "source": [
    "# Замена пропусков в order_status;\n",
    "orders.loc[:, 'order_status'] = orders['order_status'].fillna(value='_нет данных')"
   ]
  },
  {
   "cell_type": "code",
   "execution_count": 11,
   "id": "d2614772",
   "metadata": {},
   "outputs": [],
   "source": [
    "# Замена пропусков в shipped_cnt;\n",
    "new_arrival_date = pd.Timestamp.today() + pd.DateOffset(days=180)\n",
    "orders.loc[:, 'arrival_date'] = orders['arrival_date'].fillna(value=new_arrival_date.date())"
   ]
  },
  {
   "cell_type": "code",
   "execution_count": 12,
   "id": "21408d38",
   "metadata": {},
   "outputs": [],
   "source": [
    "# Группировака и аггрегация\n",
    "orders: pd.DataFrame = (\n",
    "    orders\n",
    "    .groupby(\n",
    "        by=[\n",
    "            'sku_id_1c',\n",
    "            'order_status',\n",
    "            'arrival_date'\n",
    "        ]\n",
    "    )\n",
    "    .aggregate(\n",
    "        {\n",
    "            'ordered_cnt': 'sum',\n",
    "            'backorder_cnt': 'sum',\n",
    "            'shipped_cnt': 'sum'\n",
    "        }\n",
    "    )\n",
    "    .reset_index()\n",
    ")"
   ]
  },
  {
   "cell_type": "code",
   "execution_count": 13,
   "id": "8b9ea61e",
   "metadata": {},
   "outputs": [],
   "source": [
    "orders.loc[:, 'last_update_at'] = pd.Timestamp.today()"
   ]
  },
  {
   "cell_type": "code",
   "execution_count": 14,
   "id": "cc735504",
   "metadata": {},
   "outputs": [
    {
     "name": "stdout",
     "output_type": "stream",
     "text": [
      "<class 'pandas.core.frame.DataFrame'>\n",
      "RangeIndex: 801 entries, 0 to 800\n",
      "Data columns (total 7 columns):\n",
      " #   Column          Non-Null Count  Dtype         \n",
      "---  ------          --------------  -----         \n",
      " 0   sku_id_1c       801 non-null    object        \n",
      " 1   order_status    801 non-null    object        \n",
      " 2   arrival_date    801 non-null    datetime64[ns]\n",
      " 3   ordered_cnt     801 non-null    float64       \n",
      " 4   backorder_cnt   801 non-null    float64       \n",
      " 5   shipped_cnt     801 non-null    float64       \n",
      " 6   last_update_at  801 non-null    datetime64[us]\n",
      "dtypes: datetime64[ns](1), datetime64[us](1), float64(3), object(2)\n",
      "memory usage: 43.9+ KB\n"
     ]
    }
   ],
   "source": [
    "orders.info()"
   ]
  },
  {
   "cell_type": "markdown",
   "id": "d5349ca3",
   "metadata": {},
   "source": [
    "# Проверка наличия дат поступления < текущей даты"
   ]
  },
  {
   "cell_type": "code",
   "execution_count": 15,
   "id": "682467be",
   "metadata": {},
   "outputs": [],
   "source": [
    "mask = orders[orders['arrival_date'] < dt.datetime.today()].index"
   ]
  },
  {
   "cell_type": "code",
   "execution_count": 16,
   "id": "f592d4f4",
   "metadata": {},
   "outputs": [
    {
     "name": "stdout",
     "output_type": "stream",
     "text": [
      "Количество строк с просроченными датами: 54\n"
     ]
    }
   ],
   "source": [
    "if orders[orders['arrival_date'] < dt.datetime.today()].shape[0] > 0:\n",
    "    print(f'Количество строк с просроченными датами: {orders[orders['arrival_date'] < dt.datetime.today()].shape[0]}')\n",
    "    mask = orders[orders['arrival_date'] < dt.datetime.today()].index\n",
    "    orders.loc[mask, ['arrival_date']] = new_arrival_date"
   ]
  },
  {
   "cell_type": "markdown",
   "id": "f7309147",
   "metadata": {},
   "source": [
    "# Дополнительная проверка"
   ]
  },
  {
   "cell_type": "code",
   "execution_count": 17,
   "id": "74aa9f38",
   "metadata": {},
   "outputs": [
    {
     "ename": "SyntaxError",
     "evalue": "'break' outside loop (668683560.py, line 1)",
     "output_type": "error",
     "traceback": [
      "  \u001b[36mCell\u001b[39m\u001b[36m \u001b[39m\u001b[32mIn[17]\u001b[39m\u001b[32m, line 1\u001b[39m\n\u001b[31m    \u001b[39m\u001b[31mbreak\u001b[39m\n    ^\n\u001b[31mSyntaxError\u001b[39m\u001b[31m:\u001b[39m 'break' outside loop\n"
     ]
    }
   ],
   "source": [
    "break"
   ]
  },
  {
   "cell_type": "code",
   "execution_count": 18,
   "id": "c5009cf2",
   "metadata": {},
   "outputs": [
    {
     "name": "stdout",
     "output_type": "stream",
     "text": [
      "в производстве\n",
      "готов, 2 ктк\n",
      "готов (1 паллет 100*80*120)\n",
      "готов\n",
      "_нет данных\n",
      "заказ готов, 2 ктк\n",
      "готов, 2*20\n",
      "готов 9 палл\n",
      "готов 3 палл\n",
      "готов 5 палл\n",
      "готов 15 пал\n",
      "готов 4 пал\n",
      "готов 3*20\n",
      "готов 1*40\n"
     ]
    }
   ],
   "source": [
    "print(*orders['order_status'].unique(), sep='\\n')"
   ]
  },
  {
   "cell_type": "code",
   "execution_count": 19,
   "id": "c1caf9e7",
   "metadata": {},
   "outputs": [
    {
     "data": {
      "application/vnd.microsoft.datawrangler.viewer.v0+json": {
       "columns": [
        {
         "name": "index",
         "rawType": "int64",
         "type": "integer"
        },
        {
         "name": "sku_id_1c",
         "rawType": "object",
         "type": "string"
        },
        {
         "name": "order_status",
         "rawType": "object",
         "type": "string"
        },
        {
         "name": "arrival_date",
         "rawType": "datetime64[ns]",
         "type": "datetime"
        },
        {
         "name": "ordered_cnt",
         "rawType": "float64",
         "type": "float"
        },
        {
         "name": "backorder_cnt",
         "rawType": "float64",
         "type": "float"
        },
        {
         "name": "shipped_cnt",
         "rawType": "float64",
         "type": "float"
        },
        {
         "name": "last_update_at",
         "rawType": "datetime64[us]",
         "type": "unknown"
        }
       ],
       "ref": "d5c9fcd4-5b95-4c6f-86b5-e766dc6076fd",
       "rows": [],
       "shape": {
        "columns": 7,
        "rows": 0
       }
      },
      "text/html": [
       "<div>\n",
       "<style scoped>\n",
       "    .dataframe tbody tr th:only-of-type {\n",
       "        vertical-align: middle;\n",
       "    }\n",
       "\n",
       "    .dataframe tbody tr th {\n",
       "        vertical-align: top;\n",
       "    }\n",
       "\n",
       "    .dataframe thead th {\n",
       "        text-align: right;\n",
       "    }\n",
       "</style>\n",
       "<table border=\"1\" class=\"dataframe\">\n",
       "  <thead>\n",
       "    <tr style=\"text-align: right;\">\n",
       "      <th></th>\n",
       "      <th>sku_id_1c</th>\n",
       "      <th>order_status</th>\n",
       "      <th>arrival_date</th>\n",
       "      <th>ordered_cnt</th>\n",
       "      <th>backorder_cnt</th>\n",
       "      <th>shipped_cnt</th>\n",
       "      <th>last_update_at</th>\n",
       "    </tr>\n",
       "  </thead>\n",
       "  <tbody>\n",
       "  </tbody>\n",
       "</table>\n",
       "</div>"
      ],
      "text/plain": [
       "Empty DataFrame\n",
       "Columns: [sku_id_1c, order_status, arrival_date, ordered_cnt, backorder_cnt, shipped_cnt, last_update_at]\n",
       "Index: []"
      ]
     },
     "execution_count": 19,
     "metadata": {},
     "output_type": "execute_result"
    }
   ],
   "source": [
    "orders[orders['arrival_date'] < dt.datetime.today()]"
   ]
  },
  {
   "cell_type": "code",
   "execution_count": 20,
   "id": "284471e4",
   "metadata": {},
   "outputs": [
    {
     "data": {
      "application/vnd.microsoft.datawrangler.viewer.v0+json": {
       "columns": [
        {
         "name": "index",
         "rawType": "int64",
         "type": "integer"
        },
        {
         "name": "sku_id_1c",
         "rawType": "object",
         "type": "string"
        },
        {
         "name": "order_status",
         "rawType": "object",
         "type": "string"
        },
        {
         "name": "arrival_date",
         "rawType": "datetime64[ns]",
         "type": "datetime"
        },
        {
         "name": "ordered_cnt",
         "rawType": "float64",
         "type": "float"
        },
        {
         "name": "backorder_cnt",
         "rawType": "float64",
         "type": "float"
        },
        {
         "name": "shipped_cnt",
         "rawType": "float64",
         "type": "float"
        },
        {
         "name": "last_update_at",
         "rawType": "datetime64[us]",
         "type": "unknown"
        }
       ],
       "ref": "d8628170-58fc-4c84-92e3-fa051bb3fde2",
       "rows": [],
       "shape": {
        "columns": 7,
        "rows": 0
       }
      },
      "text/html": [
       "<div>\n",
       "<style scoped>\n",
       "    .dataframe tbody tr th:only-of-type {\n",
       "        vertical-align: middle;\n",
       "    }\n",
       "\n",
       "    .dataframe tbody tr th {\n",
       "        vertical-align: top;\n",
       "    }\n",
       "\n",
       "    .dataframe thead th {\n",
       "        text-align: right;\n",
       "    }\n",
       "</style>\n",
       "<table border=\"1\" class=\"dataframe\">\n",
       "  <thead>\n",
       "    <tr style=\"text-align: right;\">\n",
       "      <th></th>\n",
       "      <th>sku_id_1c</th>\n",
       "      <th>order_status</th>\n",
       "      <th>arrival_date</th>\n",
       "      <th>ordered_cnt</th>\n",
       "      <th>backorder_cnt</th>\n",
       "      <th>shipped_cnt</th>\n",
       "      <th>last_update_at</th>\n",
       "    </tr>\n",
       "  </thead>\n",
       "  <tbody>\n",
       "  </tbody>\n",
       "</table>\n",
       "</div>"
      ],
      "text/plain": [
       "Empty DataFrame\n",
       "Columns: [sku_id_1c, order_status, arrival_date, ordered_cnt, backorder_cnt, shipped_cnt, last_update_at]\n",
       "Index: []"
      ]
     },
     "execution_count": 20,
     "metadata": {},
     "output_type": "execute_result"
    }
   ],
   "source": [
    "orders[orders['shipped_cnt'] > 0]"
   ]
  },
  {
   "cell_type": "markdown",
   "id": "cb58fa3a",
   "metadata": {},
   "source": [
    "# SAVE DATA"
   ]
  },
  {
   "cell_type": "code",
   "execution_count": 21,
   "id": "e9e04226",
   "metadata": {},
   "outputs": [],
   "source": [
    "with DEFAULT_ENGINE.begin() as connection:\n",
    "    connection.execute(text(\"TRUNCATE TABLE report.cr_orders;\"))\n",
    "    \n",
    "    orders.to_sql(\n",
    "        name='cr_orders',\n",
    "        con=connection,\n",
    "        schema='report',\n",
    "        index=False,\n",
    "        if_exists='append'\n",
    "    )"
   ]
  }
 ],
 "metadata": {
  "kernelspec": {
   "display_name": ".venv (3.12.8)",
   "language": "python",
   "name": "python3"
  },
  "language_info": {
   "codemirror_mode": {
    "name": "ipython",
    "version": 3
   },
   "file_extension": ".py",
   "mimetype": "text/x-python",
   "name": "python",
   "nbconvert_exporter": "python",
   "pygments_lexer": "ipython3",
   "version": "3.12.8"
  }
 },
 "nbformat": 4,
 "nbformat_minor": 5
}
