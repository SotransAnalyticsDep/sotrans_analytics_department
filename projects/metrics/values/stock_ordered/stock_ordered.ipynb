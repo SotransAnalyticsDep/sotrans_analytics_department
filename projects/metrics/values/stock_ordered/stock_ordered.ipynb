{
 "cells": [
  {
   "cell_type": "code",
   "execution_count": null,
   "id": "80941884",
   "metadata": {},
   "outputs": [],
   "source": [
    "import sys\n",
    "import datetime as dt\n",
    "from getpass import getuser\n",
    "\n",
    "import pandas as pd\n",
    "from sqlalchemy import text\n",
    "\n",
    "sys.path.append('C:\\Users\\user\\Desktop\\github\\sotrans_analytics_department')\n",
    "from source.core.de.serving.datamart.modules.config import DEFAULT_ENGINE"
   ]
  },
  {
   "cell_type": "code",
   "execution_count": null,
   "id": "300d791e",
   "metadata": {},
   "outputs": [],
   "source": []
  },
  {
   "cell_type": "code",
   "execution_count": null,
   "id": "21819492",
   "metadata": {},
   "outputs": [],
   "source": [
    "ROOT_FOLDER: str = r'C:\\Users\\user\\Desktop\\github\\sotrans_analytics_department'\n",
    "TRADE_FOLDER: str = r'\\\\192.168.101.228\\Trade'"
   ]
  },
  {
   "cell_type": "code",
   "execution_count": null,
   "id": "30bc6bad",
   "metadata": {},
   "outputs": [],
   "source": [
    "CURRENT_ORDERS_FILE: str = rf'{TRADE_FOLDER}\\2025\\Orders\\Подтвержденные заказы 2025.xlsx'"
   ]
  },
  {
   "cell_type": "code",
   "execution_count": null,
   "id": "a36cd7aa",
   "metadata": {},
   "outputs": [],
   "source": [
    "# Сформировать датафрейм по текущим размещённым заказам;\n",
    "orders: pd.DataFrame = pd.read_excel(\n",
    "    io=CURRENT_ORDERS_FILE,\n",
    "    engine='openpyxl',\n",
    "    usecols=[1, 7, 17, 20, 26, 27],\n",
    "    skiprows=1\n",
    ")"
   ]
  },
  {
   "cell_type": "code",
   "execution_count": null,
   "id": "84d8bb69",
   "metadata": {},
   "outputs": [],
   "source": [
    "# Переименование столбцов;\n",
    "orders: pd.DataFrame = (\n",
    "    orders\n",
    "    .rename(\n",
    "        columns={\n",
    "            'Код 1С': 'sku_id_1c',\n",
    "            'Заказано кол-во ': 'ordered_cnt',\n",
    "            'Бэкордер кол-во': 'backorder_cnt',\n",
    "            'Отгруж кол-во': 'shipped_cnt',\n",
    "            'Текущий статус': 'order_status',\n",
    "            'Ожидаемая дата прихода на склад': 'arrival_date'\n",
    "        }\n",
    "    )\n",
    ")"
   ]
  },
  {
   "cell_type": "code",
   "execution_count": null,
   "id": "6201b756",
   "metadata": {},
   "outputs": [],
   "source": [
    "orders.info()"
   ]
  },
  {
   "cell_type": "code",
   "execution_count": null,
   "id": "cf858550",
   "metadata": {},
   "outputs": [],
   "source": [
    "# Фильтрация пропусков;\n",
    "orders: pd.DataFrame = orders.dropna(subset='sku_id_1c')\n",
    "orders: pd.DataFrame = orders[orders['sku_id_1c'] != '        ']"
   ]
  },
  {
   "cell_type": "code",
   "execution_count": null,
   "id": "40488030",
   "metadata": {},
   "outputs": [],
   "source": [
    "# Приведение к нижнему регистру;\n",
    "orders['sku_id_1c'] = orders['sku_id_1c'].str.lower()\n",
    "orders['order_status'] = orders['order_status'].str.lower()"
   ]
  },
  {
   "cell_type": "code",
   "execution_count": null,
   "id": "19de4290",
   "metadata": {},
   "outputs": [],
   "source": [
    "# Замена пропусков в shipped_cnt;\n",
    "orders.loc[:, 'shipped_cnt'] = orders['shipped_cnt'].fillna(value=0)"
   ]
  },
  {
   "cell_type": "code",
   "execution_count": null,
   "id": "55964bc3",
   "metadata": {},
   "outputs": [],
   "source": [
    "# Замена пропусков в order_status;\n",
    "orders.loc[:, 'order_status'] = orders['order_status'].fillna(value='_нет данных')"
   ]
  },
  {
   "cell_type": "code",
   "execution_count": null,
   "id": "d2614772",
   "metadata": {},
   "outputs": [],
   "source": [
    "# Замена пропусков в shipped_cnt;\n",
    "new_arrival_date = pd.Timestamp.today() + pd.DateOffset(days=180)\n",
    "orders.loc[:, 'arrival_date'] = orders['arrival_date'].fillna(value=new_arrival_date.date())"
   ]
  },
  {
   "cell_type": "code",
   "execution_count": null,
   "id": "21408d38",
   "metadata": {},
   "outputs": [],
   "source": [
    "# Группировака и аггрегация\n",
    "orders: pd.DataFrame = (\n",
    "    orders\n",
    "    .groupby(\n",
    "        by=[\n",
    "            'sku_id_1c',\n",
    "            'order_status',\n",
    "            'arrival_date'\n",
    "        ]\n",
    "    )\n",
    "    .aggregate(\n",
    "        {\n",
    "            'ordered_cnt': 'sum',\n",
    "            'backorder_cnt': 'sum',\n",
    "            'shipped_cnt': 'sum'\n",
    "        }\n",
    "    )\n",
    "    .reset_index()\n",
    ")"
   ]
  },
  {
   "cell_type": "code",
   "execution_count": null,
   "id": "8b9ea61e",
   "metadata": {},
   "outputs": [],
   "source": [
    "orders.loc[:, 'last_update_at'] = pd.Timestamp.today()"
   ]
  },
  {
   "cell_type": "code",
   "execution_count": null,
   "id": "cc735504",
   "metadata": {},
   "outputs": [],
   "source": [
    "orders.info()"
   ]
  },
  {
   "cell_type": "markdown",
   "id": "f7309147",
   "metadata": {},
   "source": [
    "# Дополнительная проверка"
   ]
  },
  {
   "cell_type": "code",
   "execution_count": null,
   "id": "74aa9f38",
   "metadata": {},
   "outputs": [],
   "source": [
    "break"
   ]
  },
  {
   "cell_type": "code",
   "execution_count": null,
   "id": "c5009cf2",
   "metadata": {},
   "outputs": [],
   "source": [
    "print(*orders['order_status'].unique(), sep='\\n')"
   ]
  },
  {
   "cell_type": "code",
   "execution_count": null,
   "id": "c1caf9e7",
   "metadata": {},
   "outputs": [],
   "source": [
    "orders[orders['arrival_date'] < dt.datetime.today()]"
   ]
  },
  {
   "cell_type": "markdown",
   "id": "cb58fa3a",
   "metadata": {},
   "source": [
    "# SAVE DATA"
   ]
  },
  {
   "cell_type": "code",
   "execution_count": null,
   "id": "e9e04226",
   "metadata": {},
   "outputs": [],
   "source": [
    "with DEFAULT_ENGINE.begin() as connection:\n",
    "    connection.execute(text(\"TRUNCATE TABLE report.cr_orders;\"))\n",
    "    \n",
    "    orders.to_sql(\n",
    "        name='cr_orders',\n",
    "        con=connection,\n",
    "        schema='report',\n",
    "        index=False,\n",
    "        if_exists='append'\n",
    "    )"
   ]
  }
 ],
 "metadata": {
  "kernelspec": {
   "display_name": ".venv (3.12.8)",
   "language": "python",
   "name": "python3"
  },
  "language_info": {
   "codemirror_mode": {
    "name": "ipython",
    "version": 3
   },
   "file_extension": ".py",
   "mimetype": "text/x-python",
   "name": "python",
   "nbconvert_exporter": "python",
   "pygments_lexer": "ipython3",
   "version": "3.12.8"
  }
 },
 "nbformat": 4,
 "nbformat_minor": 5
}
