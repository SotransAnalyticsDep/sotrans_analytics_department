{
 "cells": [
  {
   "cell_type": "markdown",
   "id": "13c20a26",
   "metadata": {},
   "source": [
    "# COEFFICIENT TRADE STOCK"
   ]
  },
  {
   "cell_type": "markdown",
   "id": "83f2002f",
   "metadata": {},
   "source": [
    "# 1. IMPORTS"
   ]
  },
  {
   "cell_type": "code",
   "execution_count": null,
   "id": "6c1d4f37",
   "metadata": {},
   "outputs": [],
   "source": [
    "import sys\n",
    "\n",
    "import numpy as np\n",
    "from loguru import logger\n",
    "\n",
    "sys.path.append(r\"C:\\Users\\user\\Desktop\\github\\sotrans_analytics_department\")\n",
    "from source.core.de.serving import Datamart"
   ]
  },
  {
   "cell_type": "code",
   "execution_count": null,
   "id": "f8c21840",
   "metadata": {},
   "outputs": [],
   "source": [
    "logger.remove()\n",
    "logger.add(\n",
    "    sink=sys.stderr,\n",
    "    level=\"TRACE\",\n",
    ")"
   ]
  },
  {
   "cell_type": "markdown",
   "id": "0fcfb39f",
   "metadata": {},
   "source": [
    "# 2. EXTRACT"
   ]
  },
  {
   "cell_type": "code",
   "execution_count": null,
   "id": "905b3037",
   "metadata": {},
   "outputs": [],
   "source": [
    "datamart: Datamart = Datamart(\n",
    "    agg_cat_cols=(\n",
    "        'brand_name_1c',\n",
    "        'ca_name',\n",
    "        'ca_type',\n",
    "        'ca_status'\n",
    "    ),\n",
    "    agg_dt_cols=('year', 'month')\n",
    ")"
   ]
  },
  {
   "cell_type": "code",
   "execution_count": null,
   "id": "0f569c55",
   "metadata": {},
   "outputs": [],
   "source": [
    "datamart.IEnd.add_final()"
   ]
  },
  {
   "cell_type": "markdown",
   "id": "f579b5b5",
   "metadata": {},
   "source": [
    "# 3. TRANSFORM"
   ]
  },
  {
   "cell_type": "markdown",
   "id": "362986d0",
   "metadata": {},
   "source": [
    "## 3.1. Pre-Processing"
   ]
  },
  {
   "cell_type": "code",
   "execution_count": null,
   "id": "1ddaa504",
   "metadata": {},
   "outputs": [],
   "source": [
    "# Заполнить пропуски в названии бренда;\n",
    "datamart.df['brand_name_1c'] = datamart.df['brand_name_1c'].fillna(value='_нет данных_')"
   ]
  },
  {
   "cell_type": "markdown",
   "id": "0e529706",
   "metadata": {},
   "source": [
    "## 3.2. Main Algorythm"
   ]
  },
  {
   "cell_type": "code",
   "execution_count": null,
   "id": "f4132b6c",
   "metadata": {},
   "outputs": [],
   "source": [
    "# загрузка даннных о продажах за последние 1, 3, 6 месяцев;\n",
    "for period in (1, 3, 6):\n",
    "    # Получить сумму продаж за анализируемый период;\n",
    "    datamart.IExpend.add_sale(period=period)\n",
    "    \n",
    "    # Получить количество месяцев с наличием за анализируемый период;\n",
    "    datamart.IHaving.add_stock(period=period)\n",
    "    \n",
    "    "
   ]
  },
  {
   "cell_type": "code",
   "execution_count": null,
   "id": "3569a516",
   "metadata": {},
   "outputs": [],
   "source": [
    "datamart.df"
   ]
  },
  {
   "cell_type": "code",
   "execution_count": null,
   "id": "4ed0baf7",
   "metadata": {},
   "outputs": [],
   "source": [
    "np.where(\n",
    "    datamart.df['']\n",
    ")"
   ]
  },
  {
   "cell_type": "markdown",
   "id": "c5045fe0",
   "metadata": {},
   "source": [
    "# 4. LOAD"
   ]
  },
  {
   "cell_type": "code",
   "execution_count": null,
   "id": "43c72939",
   "metadata": {},
   "outputs": [],
   "source": [
    "# Рассчёт КТО;\n",
    "    for dgt_col in datamart.agg_dgt_cols:\n",
    "        # Рассчитать ср.мес. значение продаж с учётом наличия;\n",
    "        condition = np.where()\n",
    "        \n",
    "        \n",
    "        datamart.df[f'avg_sale_{dgt_col}_{period}'] = "
   ]
  }
 ],
 "metadata": {
  "kernelspec": {
   "display_name": ".venv (3.12.8)",
   "language": "python",
   "name": "python3"
  },
  "language_info": {
   "codemirror_mode": {
    "name": "ipython",
    "version": 3
   },
   "file_extension": ".py",
   "mimetype": "text/x-python",
   "name": "python",
   "nbconvert_exporter": "python",
   "pygments_lexer": "ipython3",
   "version": "3.12.8"
  }
 },
 "nbformat": 4,
 "nbformat_minor": 5
}
