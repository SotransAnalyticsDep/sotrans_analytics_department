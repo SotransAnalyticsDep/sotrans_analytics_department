{
 "cells": [
  {
   "cell_type": "code",
   "execution_count": null,
   "metadata": {},
   "outputs": [],
   "source": [
    "import sys\n",
    "\n",
    "import numpy as np\n",
    "\n",
    "from loguru import logger\n",
    "\n",
    "sys.path.append(r\"C:\\Users\\user\\Desktop\\github\\sotrans_analytics_department\")\n",
    "from source.core.de.serving import Datamart"
   ]
  },
  {
   "cell_type": "code",
   "execution_count": null,
   "metadata": {},
   "outputs": [],
   "source": [
    "logger.remove()\n",
    "logger.add(sink=sys.stderr, level=\"TRACE\")"
   ]
  },
  {
   "cell_type": "markdown",
   "metadata": {},
   "source": [
    "# Создание витрины данных"
   ]
  },
  {
   "cell_type": "code",
   "execution_count": null,
   "metadata": {},
   "outputs": [],
   "source": [
    "datamart: Datamart = Datamart(\n",
    "    agg_cat_cols=(\"brand_name_1c\", \"ca_name\", \"ca_type\", \"ca_status\"),\n",
    ")"
   ]
  },
  {
   "cell_type": "code",
   "execution_count": null,
   "metadata": {},
   "outputs": [],
   "source": [
    "datamart.IEnd.add_final()"
   ]
  },
  {
   "cell_type": "code",
   "execution_count": null,
   "metadata": {},
   "outputs": [],
   "source": [
    "datamart.df = datamart.df[~datamart.df[\"brand_name_1c\"].isna()]"
   ]
  },
  {
   "cell_type": "code",
   "execution_count": null,
   "metadata": {},
   "outputs": [],
   "source": [
    "for period in (1, 3, 6):\n",
    "    # Получить сумму продаж за анализируемый период\n",
    "    datamart.IExpend.add_sale(period=period)\n",
    "    # Получить количество месяцев с наличием на анализируемый период\n",
    "    datamart.IHaving.add_stock(period=period)\n",
    "\n",
    "    for dgt_col in datamart.agg_dgt_cols:\n",
    "        # Рассчитать ср.знач. продаж с учётом наличия за анализируемый период\n",
    "        datamart.df.loc[:, f\"avg_sale_{dgt_col}_mwh_{period}\"] = [\n",
    "            round(\n",
    "                np.nan_to_num(\n",
    "                    np.divide(sales, mwh),\n",
    "                    nan=0.001,\n",
    "                    posinf=0.001,\n",
    "                    neginf=0.001,\n",
    "                ),\n",
    "                2,\n",
    "            )\n",
    "            for sales, mwh in zip(\n",
    "                datamart.df[f\"ex_sale_cnt_sum_{period}_month\"],\n",
    "                datamart.df[f\"hv_stock_{period}_month\"],\n",
    "            )\n",
    "        ]\n",
    "\n",
    "        # Рассчитать КТЗ\n",
    "        datamart.df.loc[:, f\"CTS_{dgt_col}_{period}\"] = [\n",
    "            round(\n",
    "                np.nan_to_num(\n",
    "                    np.divide(stock, avg_sale),\n",
    "                    nan=0.001,\n",
    "                    posinf=0.001,\n",
    "                    neginf=0.001,\n",
    "                ),\n",
    "                2,\n",
    "            )\n",
    "            for avg_sale, stock in zip(\n",
    "                datamart.df[f\"avg_sale_{dgt_col}_mwh_{period}\"],\n",
    "                datamart.df[f\"en_final_{dgt_col}_fd\"],\n",
    "            )\n",
    "        ]"
   ]
  },
  {
   "cell_type": "code",
   "execution_count": null,
   "metadata": {},
   "outputs": [],
   "source": [
    "datamart.df = datamart.df.query('ca_type == \"дилерский контракт\"').query(\n",
    "    'ca_status == \"работаем\"'\n",
    ")"
   ]
  },
  {
   "cell_type": "code",
   "execution_count": null,
   "metadata": {},
   "outputs": [],
   "source": [
    "datamart.df.to_json(\n",
    "    path_or_buf=\"coefficient_trade_stock.json\", orient=\"table\", index=False\n",
    ")"
   ]
  }
 ],
 "metadata": {
  "kernelspec": {
   "display_name": ".venv (3.12.8)",
   "language": "python",
   "name": "python3"
  },
  "language_info": {
   "codemirror_mode": {
    "name": "ipython",
    "version": 3
   },
   "file_extension": ".py",
   "mimetype": "text/x-python",
   "name": "python",
   "nbconvert_exporter": "python",
   "pygments_lexer": "ipython3",
   "version": "3.12.8"
  }
 },
 "nbformat": 4,
 "nbformat_minor": 2
}
