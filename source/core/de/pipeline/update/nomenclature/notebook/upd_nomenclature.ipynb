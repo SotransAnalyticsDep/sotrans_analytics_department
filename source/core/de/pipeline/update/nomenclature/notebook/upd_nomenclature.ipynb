{
 "cells": [
  {
   "cell_type": "markdown",
   "id": "d66f850b",
   "metadata": {},
   "source": [
    "# Скрипт отвечает за загрузку, предобработку и добавление новых данных по номенклатуре в справочник базы данных PostgreSQL"
   ]
  },
  {
   "cell_type": "markdown",
   "id": "6cadd6e4",
   "metadata": {},
   "source": [
    "# 1. IMPORTS"
   ]
  },
  {
   "cell_type": "code",
   "execution_count": 1,
   "id": "0c0e4345",
   "metadata": {},
   "outputs": [],
   "source": [
    "import os\n",
    "import sys\n",
    "from functools import lru_cache\n",
    "\n",
    "import pandas as pd\n",
    "from sqlalchemy import Engine\n",
    "from loguru import logger\n",
    "\n",
    "sys.path.insert(0, r'C:\\Users\\user\\Desktop\\github\\sotrans_analytics_department')\n",
    "from source.core.de.connectors import PGConnector\n",
    "from source.utils.decorators.handlers.excel import handler_xl_shared_string_xml\n",
    "from source.utils.dtypes import set_category_dtype"
   ]
  },
  {
   "cell_type": "markdown",
   "id": "d4624718",
   "metadata": {},
   "source": [
    "# 2. SETTINGS"
   ]
  },
  {
   "cell_type": "code",
   "execution_count": 2,
   "id": "6adc1450",
   "metadata": {},
   "outputs": [
    {
     "data": {
      "text/plain": [
       "1"
      ]
     },
     "execution_count": 2,
     "metadata": {},
     "output_type": "execute_result"
    }
   ],
   "source": [
    "logger.remove()\n",
    "logger.add(\n",
    "    sink=sys.stderr,\n",
    "    level='TRACE',\n",
    ")"
   ]
  },
  {
   "cell_type": "markdown",
   "id": "9ed756a5",
   "metadata": {},
   "source": [
    "# 3. CONSTANTS"
   ]
  },
  {
   "cell_type": "code",
   "execution_count": 3,
   "id": "1d17d420",
   "metadata": {},
   "outputs": [],
   "source": [
    "ROOT_FOLDER: str = r'C:\\Users\\user\\YandexDisk\\batch_movement\\reference'\n",
    "FILENAME: str = 'nomenclature.xlsx'"
   ]
  },
  {
   "cell_type": "code",
   "execution_count": 4,
   "id": "68357171",
   "metadata": {},
   "outputs": [
    {
     "name": "stderr",
     "output_type": "stream",
     "text": [
      "\u001b[32m2025-05-19 11:42:27.522\u001b[0m | \u001b[1mINFO    \u001b[0m | \u001b[36msource.core.de.connectors.postgresql\u001b[0m:\u001b[36m__create_engine\u001b[0m:\u001b[36m94\u001b[0m - \u001b[1mНачало создания подключения к базе данных.\u001b[0m\n",
      "\u001b[32m2025-05-19 11:42:27.523\u001b[0m | \u001b[1mINFO    \u001b[0m | \u001b[36msource.core.de.connectors.postgresql\u001b[0m:\u001b[36m__create_connection_string\u001b[0m:\u001b[36m61\u001b[0m - \u001b[1mНачало формирования строки подключения к базе данных.\u001b[0m\n",
      "\u001b[32m2025-05-19 11:42:27.525\u001b[0m | \u001b[32m\u001b[1mSUCCESS \u001b[0m | \u001b[36msource.core.de.connectors.postgresql\u001b[0m:\u001b[36m__create_connection_string\u001b[0m:\u001b[36m73\u001b[0m - \u001b[32m\u001b[1mСтрока подключения к базе данных успешно создана.\u001b[0m\n",
      "\u001b[32m2025-05-19 11:42:27.562\u001b[0m | \u001b[32m\u001b[1mSUCCESS \u001b[0m | \u001b[36msource.core.de.connectors.postgresql\u001b[0m:\u001b[36m__create_engine\u001b[0m:\u001b[36m97\u001b[0m - \u001b[32m\u001b[1mПодключение к базе данных успешно создано.\u001b[0m\n"
     ]
    }
   ],
   "source": [
    "ENGINE: Engine = PGConnector().engine"
   ]
  },
  {
   "cell_type": "markdown",
   "id": "5bc399b5",
   "metadata": {},
   "source": [
    "# 4. FUNCTIONS"
   ]
  },
  {
   "cell_type": "code",
   "execution_count": 5,
   "id": "def9e204",
   "metadata": {},
   "outputs": [],
   "source": [
    "@lru_cache(maxsize=128)\n",
    "@handler_xl_shared_string_xml\n",
    "def create_dataframe() -> pd.DataFrame:\n",
    "    \"\"\"\n",
    "    Функция создает DataFrame с данными из файла, используя библиотеку Pandas.\n",
    "\n",
    "    Returns:\n",
    "        pd.DataFrame: DataFrame с данными из файла.\n",
    "    \"\"\"\n",
    "    \n",
    "    dataframe: pd.DataFrame = pd.read_excel( # type: ignore\n",
    "        io=os.path.join(ROOT_FOLDER, FILENAME),\n",
    "        engine='openpyxl',\n",
    "        dtype='string'\n",
    "    )\n",
    "    return dataframe"
   ]
  },
  {
   "cell_type": "markdown",
   "id": "18a1c919",
   "metadata": {},
   "source": [
    "# 5. ETL"
   ]
  },
  {
   "cell_type": "markdown",
   "id": "e85d38c4",
   "metadata": {},
   "source": [
    "## 5.1. Extract"
   ]
  },
  {
   "cell_type": "code",
   "execution_count": 6,
   "id": "a851957d",
   "metadata": {},
   "outputs": [],
   "source": [
    "# Создать DataFrame с данными из файла;\n",
    "dataframe: pd.DataFrame = create_dataframe()"
   ]
  },
  {
   "cell_type": "code",
   "execution_count": 7,
   "id": "3dcd31c3",
   "metadata": {},
   "outputs": [],
   "source": [
    "# Замена пропусков на строки '_нет данных';\n",
    "dataframe.fillna('_нет данных', inplace=True) # type: ignore"
   ]
  },
  {
   "cell_type": "markdown",
   "id": "615f6cbe",
   "metadata": {},
   "source": [
    "## 5.2. Transform"
   ]
  },
  {
   "cell_type": "code",
   "execution_count": 8,
   "id": "2c21a8bb",
   "metadata": {},
   "outputs": [
    {
     "name": "stderr",
     "output_type": "stream",
     "text": [
      "\u001b[32m2025-05-19 11:42:58.829\u001b[0m | \u001b[1mINFO    \u001b[0m | \u001b[36m__main__\u001b[0m:\u001b[36m<module>\u001b[0m:\u001b[36m3\u001b[0m - \u001b[1mПреобразование строк столбца \"brand_id_1c\" к нижнему регистру;\u001b[0m\n",
      "\u001b[32m2025-05-19 11:42:58.967\u001b[0m | \u001b[32m\u001b[1mSUCCESS \u001b[0m | \u001b[36m__main__\u001b[0m:\u001b[36m<module>\u001b[0m:\u001b[36m5\u001b[0m - \u001b[32m\u001b[1mПреобразование строк столбца \"brand_id_1c\" к нижнему регистру выполнен;\u001b[0m\n",
      "\u001b[32m2025-05-19 11:42:58.968\u001b[0m | \u001b[1mINFO    \u001b[0m | \u001b[36m__main__\u001b[0m:\u001b[36m<module>\u001b[0m:\u001b[36m3\u001b[0m - \u001b[1mПреобразование строк столбца \"brand_name_1c\" к нижнему регистру;\u001b[0m\n",
      "\u001b[32m2025-05-19 11:42:59.043\u001b[0m | \u001b[32m\u001b[1mSUCCESS \u001b[0m | \u001b[36m__main__\u001b[0m:\u001b[36m<module>\u001b[0m:\u001b[36m5\u001b[0m - \u001b[32m\u001b[1mПреобразование строк столбца \"brand_name_1c\" к нижнему регистру выполнен;\u001b[0m\n",
      "\u001b[32m2025-05-19 11:42:59.044\u001b[0m | \u001b[1mINFO    \u001b[0m | \u001b[36m__main__\u001b[0m:\u001b[36m<module>\u001b[0m:\u001b[36m3\u001b[0m - \u001b[1mПреобразование строк столбца \"sku_id_1c\" к нижнему регистру;\u001b[0m\n",
      "\u001b[32m2025-05-19 11:42:59.218\u001b[0m | \u001b[32m\u001b[1mSUCCESS \u001b[0m | \u001b[36m__main__\u001b[0m:\u001b[36m<module>\u001b[0m:\u001b[36m5\u001b[0m - \u001b[32m\u001b[1mПреобразование строк столбца \"sku_id_1c\" к нижнему регистру выполнен;\u001b[0m\n",
      "\u001b[32m2025-05-19 11:42:59.219\u001b[0m | \u001b[1mINFO    \u001b[0m | \u001b[36m__main__\u001b[0m:\u001b[36m<module>\u001b[0m:\u001b[36m3\u001b[0m - \u001b[1mПреобразование строк столбца \"sku_name_1c\" к нижнему регистру;\u001b[0m\n",
      "\u001b[32m2025-05-19 11:42:59.395\u001b[0m | \u001b[32m\u001b[1mSUCCESS \u001b[0m | \u001b[36m__main__\u001b[0m:\u001b[36m<module>\u001b[0m:\u001b[36m5\u001b[0m - \u001b[32m\u001b[1mПреобразование строк столбца \"sku_name_1c\" к нижнему регистру выполнен;\u001b[0m\n",
      "\u001b[32m2025-05-19 11:42:59.396\u001b[0m | \u001b[1mINFO    \u001b[0m | \u001b[36m__main__\u001b[0m:\u001b[36m<module>\u001b[0m:\u001b[36m3\u001b[0m - \u001b[1mПреобразование строк столбца \"sku_cat_num\" к нижнему регистру;\u001b[0m\n",
      "\u001b[32m2025-05-19 11:42:59.536\u001b[0m | \u001b[32m\u001b[1mSUCCESS \u001b[0m | \u001b[36m__main__\u001b[0m:\u001b[36m<module>\u001b[0m:\u001b[36m5\u001b[0m - \u001b[32m\u001b[1mПреобразование строк столбца \"sku_cat_num\" к нижнему регистру выполнен;\u001b[0m\n",
      "\u001b[32m2025-05-19 11:42:59.537\u001b[0m | \u001b[1mINFO    \u001b[0m | \u001b[36m__main__\u001b[0m:\u001b[36m<module>\u001b[0m:\u001b[36m3\u001b[0m - \u001b[1mПреобразование строк столбца \"sku_art_num\" к нижнему регистру;\u001b[0m\n",
      "\u001b[32m2025-05-19 11:42:59.660\u001b[0m | \u001b[32m\u001b[1mSUCCESS \u001b[0m | \u001b[36m__main__\u001b[0m:\u001b[36m<module>\u001b[0m:\u001b[36m5\u001b[0m - \u001b[32m\u001b[1mПреобразование строк столбца \"sku_art_num\" к нижнему регистру выполнен;\u001b[0m\n",
      "\u001b[32m2025-05-19 11:42:59.661\u001b[0m | \u001b[1mINFO    \u001b[0m | \u001b[36m__main__\u001b[0m:\u001b[36m<module>\u001b[0m:\u001b[36m3\u001b[0m - \u001b[1mПреобразование строк столбца \"parent_folder\" к нижнему регистру;\u001b[0m\n",
      "\u001b[32m2025-05-19 11:42:59.748\u001b[0m | \u001b[32m\u001b[1mSUCCESS \u001b[0m | \u001b[36m__main__\u001b[0m:\u001b[36m<module>\u001b[0m:\u001b[36m5\u001b[0m - \u001b[32m\u001b[1mПреобразование строк столбца \"parent_folder\" к нижнему регистру выполнен;\u001b[0m\n"
     ]
    }
   ],
   "source": [
    "for column in dataframe.columns:\n",
    "    try:\n",
    "        logger.info(f'Преобразование строк столбца \"{column}\" к нижнему регистру;')\n",
    "        dataframe[column] = dataframe[column].str.lower() # type: ignore\n",
    "        logger.success(f'Преобразование строк столбца \"{column}\" к нижнему регистру выполнен;')\n",
    "    \n",
    "    except Exception as e:\n",
    "        logger.error(f'Непредвиденная ошибка: {e};')"
   ]
  },
  {
   "cell_type": "code",
   "execution_count": 9,
   "id": "80a9d3c5",
   "metadata": {},
   "outputs": [
    {
     "name": "stderr",
     "output_type": "stream",
     "text": [
      "\u001b[32m2025-05-19 11:42:59.755\u001b[0m | \u001b[36m\u001b[1mTRACE   \u001b[0m | \u001b[36msource.utils.dtypes.set_dtypes\u001b[0m:\u001b[36mset_category_dtype\u001b[0m:\u001b[36m33\u001b[0m - \u001b[36m\u001b[1mКоличество строк в DataFrame: 450192;\u001b[0m\n",
      "\u001b[32m2025-05-19 11:42:59.756\u001b[0m | \u001b[36m\u001b[1mTRACE   \u001b[0m | \u001b[36msource.utils.dtypes.set_dtypes\u001b[0m:\u001b[36mset_category_dtype\u001b[0m:\u001b[36m34\u001b[0m - \u001b[36m\u001b[1mРазмер трети DataFrame: 150064\u001b[0m\n",
      "\u001b[32m2025-05-19 11:42:59.757\u001b[0m | \u001b[36m\u001b[1mTRACE   \u001b[0m | \u001b[36msource.utils.dtypes.set_dtypes\u001b[0m:\u001b[36mset_category_dtype\u001b[0m:\u001b[36m45\u001b[0m - \u001b[36m\u001b[1mТип данных для столбца \"brand_id_1c\": string.\u001b[0m\n",
      "\u001b[32m2025-05-19 11:42:59.853\u001b[0m | \u001b[36m\u001b[1mTRACE   \u001b[0m | \u001b[36msource.utils.dtypes.set_dtypes\u001b[0m:\u001b[36mset_category_dtype\u001b[0m:\u001b[36m54\u001b[0m - \u001b[36m\u001b[1mКоличество уникальных значений: 3026.\u001b[0m\n",
      "\u001b[32m2025-05-19 11:42:59.854\u001b[0m | \u001b[34m\u001b[1mDEBUG   \u001b[0m | \u001b[36msource.utils.dtypes.set_dtypes\u001b[0m:\u001b[36mset_category_dtype\u001b[0m:\u001b[36m58\u001b[0m - \u001b[34m\u001b[1mКоличество уникальных значений менее трети строк датафрейма;\u001b[0m\n",
      "\u001b[32m2025-05-19 11:42:59.854\u001b[0m | \u001b[1mINFO    \u001b[0m | \u001b[36msource.utils.dtypes.set_dtypes\u001b[0m:\u001b[36mset_category_dtype\u001b[0m:\u001b[36m59\u001b[0m - \u001b[1mПреобразование столбца \"brand_id_1c\" к категориальному типу данных;\u001b[0m\n",
      "\u001b[32m2025-05-19 11:42:59.999\u001b[0m | \u001b[32m\u001b[1mSUCCESS \u001b[0m | \u001b[36msource.utils.dtypes.set_dtypes\u001b[0m:\u001b[36mset_category_dtype\u001b[0m:\u001b[36m64\u001b[0m - \u001b[32m\u001b[1mСтолбец \"brand_id_1c\" преобразован к категориальному типу данных;\u001b[0m\n",
      "\u001b[32m2025-05-19 11:43:00.000\u001b[0m | \u001b[36m\u001b[1mTRACE   \u001b[0m | \u001b[36msource.utils.dtypes.set_dtypes\u001b[0m:\u001b[36mset_category_dtype\u001b[0m:\u001b[36m45\u001b[0m - \u001b[36m\u001b[1mТип данных для столбца \"brand_name_1c\": string.\u001b[0m\n",
      "\u001b[32m2025-05-19 11:43:00.050\u001b[0m | \u001b[36m\u001b[1mTRACE   \u001b[0m | \u001b[36msource.utils.dtypes.set_dtypes\u001b[0m:\u001b[36mset_category_dtype\u001b[0m:\u001b[36m54\u001b[0m - \u001b[36m\u001b[1mКоличество уникальных значений: 3025.\u001b[0m\n",
      "\u001b[32m2025-05-19 11:43:00.051\u001b[0m | \u001b[34m\u001b[1mDEBUG   \u001b[0m | \u001b[36msource.utils.dtypes.set_dtypes\u001b[0m:\u001b[36mset_category_dtype\u001b[0m:\u001b[36m58\u001b[0m - \u001b[34m\u001b[1mКоличество уникальных значений менее трети строк датафрейма;\u001b[0m\n",
      "\u001b[32m2025-05-19 11:43:00.051\u001b[0m | \u001b[1mINFO    \u001b[0m | \u001b[36msource.utils.dtypes.set_dtypes\u001b[0m:\u001b[36mset_category_dtype\u001b[0m:\u001b[36m59\u001b[0m - \u001b[1mПреобразование столбца \"brand_name_1c\" к категориальному типу данных;\u001b[0m\n",
      "\u001b[32m2025-05-19 11:43:00.149\u001b[0m | \u001b[32m\u001b[1mSUCCESS \u001b[0m | \u001b[36msource.utils.dtypes.set_dtypes\u001b[0m:\u001b[36mset_category_dtype\u001b[0m:\u001b[36m64\u001b[0m - \u001b[32m\u001b[1mСтолбец \"brand_name_1c\" преобразован к категориальному типу данных;\u001b[0m\n",
      "\u001b[32m2025-05-19 11:43:00.150\u001b[0m | \u001b[36m\u001b[1mTRACE   \u001b[0m | \u001b[36msource.utils.dtypes.set_dtypes\u001b[0m:\u001b[36mset_category_dtype\u001b[0m:\u001b[36m45\u001b[0m - \u001b[36m\u001b[1mТип данных для столбца \"sku_id_1c\": string.\u001b[0m\n",
      "\u001b[32m2025-05-19 11:43:00.467\u001b[0m | \u001b[36m\u001b[1mTRACE   \u001b[0m | \u001b[36msource.utils.dtypes.set_dtypes\u001b[0m:\u001b[36mset_category_dtype\u001b[0m:\u001b[36m54\u001b[0m - \u001b[36m\u001b[1mКоличество уникальных значений: 450192.\u001b[0m\n",
      "\u001b[32m2025-05-19 11:43:00.468\u001b[0m | \u001b[34m\u001b[1mDEBUG   \u001b[0m | \u001b[36msource.utils.dtypes.set_dtypes\u001b[0m:\u001b[36mset_category_dtype\u001b[0m:\u001b[36m70\u001b[0m - \u001b[34m\u001b[1mКоличество уникальных значений больше трети строк датафрейма;\u001b[0m\n",
      "\u001b[32m2025-05-19 11:43:00.469\u001b[0m | \u001b[1mINFO    \u001b[0m | \u001b[36msource.utils.dtypes.set_dtypes\u001b[0m:\u001b[36mset_category_dtype\u001b[0m:\u001b[36m71\u001b[0m - \u001b[1mПреобразование типов данных для столбца \"sku_id_1c\" не требуется;\u001b[0m\n",
      "\u001b[32m2025-05-19 11:43:00.470\u001b[0m | \u001b[36m\u001b[1mTRACE   \u001b[0m | \u001b[36msource.utils.dtypes.set_dtypes\u001b[0m:\u001b[36mset_category_dtype\u001b[0m:\u001b[36m45\u001b[0m - \u001b[36m\u001b[1mТип данных для столбца \"sku_name_1c\": string.\u001b[0m\n",
      "\u001b[32m2025-05-19 11:43:00.682\u001b[0m | \u001b[36m\u001b[1mTRACE   \u001b[0m | \u001b[36msource.utils.dtypes.set_dtypes\u001b[0m:\u001b[36mset_category_dtype\u001b[0m:\u001b[36m54\u001b[0m - \u001b[36m\u001b[1mКоличество уникальных значений: 211644.\u001b[0m\n",
      "\u001b[32m2025-05-19 11:43:00.683\u001b[0m | \u001b[34m\u001b[1mDEBUG   \u001b[0m | \u001b[36msource.utils.dtypes.set_dtypes\u001b[0m:\u001b[36mset_category_dtype\u001b[0m:\u001b[36m70\u001b[0m - \u001b[34m\u001b[1mКоличество уникальных значений больше трети строк датафрейма;\u001b[0m\n",
      "\u001b[32m2025-05-19 11:43:00.683\u001b[0m | \u001b[1mINFO    \u001b[0m | \u001b[36msource.utils.dtypes.set_dtypes\u001b[0m:\u001b[36mset_category_dtype\u001b[0m:\u001b[36m71\u001b[0m - \u001b[1mПреобразование типов данных для столбца \"sku_name_1c\" не требуется;\u001b[0m\n",
      "\u001b[32m2025-05-19 11:43:00.684\u001b[0m | \u001b[36m\u001b[1mTRACE   \u001b[0m | \u001b[36msource.utils.dtypes.set_dtypes\u001b[0m:\u001b[36mset_category_dtype\u001b[0m:\u001b[36m45\u001b[0m - \u001b[36m\u001b[1mТип данных для столбца \"sku_cat_num\": string.\u001b[0m\n",
      "\u001b[32m2025-05-19 11:43:00.890\u001b[0m | \u001b[36m\u001b[1mTRACE   \u001b[0m | \u001b[36msource.utils.dtypes.set_dtypes\u001b[0m:\u001b[36mset_category_dtype\u001b[0m:\u001b[36m54\u001b[0m - \u001b[36m\u001b[1mКоличество уникальных значений: 450057.\u001b[0m\n",
      "\u001b[32m2025-05-19 11:43:00.891\u001b[0m | \u001b[34m\u001b[1mDEBUG   \u001b[0m | \u001b[36msource.utils.dtypes.set_dtypes\u001b[0m:\u001b[36mset_category_dtype\u001b[0m:\u001b[36m70\u001b[0m - \u001b[34m\u001b[1mКоличество уникальных значений больше трети строк датафрейма;\u001b[0m\n",
      "\u001b[32m2025-05-19 11:43:00.892\u001b[0m | \u001b[1mINFO    \u001b[0m | \u001b[36msource.utils.dtypes.set_dtypes\u001b[0m:\u001b[36mset_category_dtype\u001b[0m:\u001b[36m71\u001b[0m - \u001b[1mПреобразование типов данных для столбца \"sku_cat_num\" не требуется;\u001b[0m\n",
      "\u001b[32m2025-05-19 11:43:00.892\u001b[0m | \u001b[36m\u001b[1mTRACE   \u001b[0m | \u001b[36msource.utils.dtypes.set_dtypes\u001b[0m:\u001b[36mset_category_dtype\u001b[0m:\u001b[36m45\u001b[0m - \u001b[36m\u001b[1mТип данных для столбца \"sku_art_num\": string.\u001b[0m\n",
      "\u001b[32m2025-05-19 11:43:01.039\u001b[0m | \u001b[36m\u001b[1mTRACE   \u001b[0m | \u001b[36msource.utils.dtypes.set_dtypes\u001b[0m:\u001b[36mset_category_dtype\u001b[0m:\u001b[36m54\u001b[0m - \u001b[36m\u001b[1mКоличество уникальных значений: 416412.\u001b[0m\n",
      "\u001b[32m2025-05-19 11:43:01.040\u001b[0m | \u001b[34m\u001b[1mDEBUG   \u001b[0m | \u001b[36msource.utils.dtypes.set_dtypes\u001b[0m:\u001b[36mset_category_dtype\u001b[0m:\u001b[36m70\u001b[0m - \u001b[34m\u001b[1mКоличество уникальных значений больше трети строк датафрейма;\u001b[0m\n",
      "\u001b[32m2025-05-19 11:43:01.041\u001b[0m | \u001b[1mINFO    \u001b[0m | \u001b[36msource.utils.dtypes.set_dtypes\u001b[0m:\u001b[36mset_category_dtype\u001b[0m:\u001b[36m71\u001b[0m - \u001b[1mПреобразование типов данных для столбца \"sku_art_num\" не требуется;\u001b[0m\n",
      "\u001b[32m2025-05-19 11:43:01.041\u001b[0m | \u001b[36m\u001b[1mTRACE   \u001b[0m | \u001b[36msource.utils.dtypes.set_dtypes\u001b[0m:\u001b[36mset_category_dtype\u001b[0m:\u001b[36m45\u001b[0m - \u001b[36m\u001b[1mТип данных для столбца \"parent_folder\": string.\u001b[0m\n",
      "\u001b[32m2025-05-19 11:43:01.094\u001b[0m | \u001b[36m\u001b[1mTRACE   \u001b[0m | \u001b[36msource.utils.dtypes.set_dtypes\u001b[0m:\u001b[36mset_category_dtype\u001b[0m:\u001b[36m54\u001b[0m - \u001b[36m\u001b[1mКоличество уникальных значений: 684.\u001b[0m\n",
      "\u001b[32m2025-05-19 11:43:01.095\u001b[0m | \u001b[34m\u001b[1mDEBUG   \u001b[0m | \u001b[36msource.utils.dtypes.set_dtypes\u001b[0m:\u001b[36mset_category_dtype\u001b[0m:\u001b[36m58\u001b[0m - \u001b[34m\u001b[1mКоличество уникальных значений менее трети строк датафрейма;\u001b[0m\n",
      "\u001b[32m2025-05-19 11:43:01.096\u001b[0m | \u001b[1mINFO    \u001b[0m | \u001b[36msource.utils.dtypes.set_dtypes\u001b[0m:\u001b[36mset_category_dtype\u001b[0m:\u001b[36m59\u001b[0m - \u001b[1mПреобразование столбца \"parent_folder\" к категориальному типу данных;\u001b[0m\n",
      "\u001b[32m2025-05-19 11:43:01.184\u001b[0m | \u001b[32m\u001b[1mSUCCESS \u001b[0m | \u001b[36msource.utils.dtypes.set_dtypes\u001b[0m:\u001b[36mset_category_dtype\u001b[0m:\u001b[36m64\u001b[0m - \u001b[32m\u001b[1mСтолбец \"parent_folder\" преобразован к категориальному типу данных;\u001b[0m\n"
     ]
    }
   ],
   "source": [
    "# Установка категориальных типов данных;\n",
    "dataframe: pd.DataFrame = set_category_dtype(\n",
    "    dataframe=dataframe,\n",
    "    columns=tuple(dataframe.columns)\n",
    ")"
   ]
  },
  {
   "cell_type": "code",
   "execution_count": 11,
   "id": "e0e6e1eb",
   "metadata": {},
   "outputs": [],
   "source": [
    "# Получить текущие данные из базы данных PostgreSQL;\n",
    "with ENGINE.begin() as connection:\n",
    "    pg_nomenclature: pd.DataFrame = pd.read_sql_table(\n",
    "        table_name='nomenclature',\n",
    "        con=connection,\n",
    "        schema='constant',\n",
    "    )"
   ]
  },
  {
   "cell_type": "code",
   "execution_count": 12,
   "id": "6b5b15df",
   "metadata": {},
   "outputs": [],
   "source": [
    "# Удалить из текущего DataFrame те строки, которые уже присутствуют в базе данных PostgreSQL;\n",
    "filtered_dataframe: pd.DataFrame = (\n",
    "    dataframe[\n",
    "        ~dataframe['sku_id_1c'].isin(values=pg_nomenclature['sku_id_1c'].unique()) # type: ignore\n",
    "    ]\n",
    ")"
   ]
  },
  {
   "cell_type": "markdown",
   "id": "077e62c3",
   "metadata": {},
   "source": [
    "## 5.3. Load"
   ]
  },
  {
   "cell_type": "code",
   "execution_count": 13,
   "id": "f2585cdc",
   "metadata": {},
   "outputs": [],
   "source": [
    "with ENGINE.begin() as connection:\n",
    "    # Вставить отфильтрованный DataFrame в базу данных PostgreSQL;\n",
    "    filtered_dataframe.to_sql(\n",
    "        name='nomenclature',\n",
    "        schema='constant',\n",
    "        con=connection,\n",
    "        index=False,\n",
    "        if_exists='append',\n",
    "    )"
   ]
  }
 ],
 "metadata": {
  "kernelspec": {
   "display_name": ".venv (3.12.8)",
   "language": "python",
   "name": "python3"
  },
  "language_info": {
   "codemirror_mode": {
    "name": "ipython",
    "version": 3
   },
   "file_extension": ".py",
   "mimetype": "text/x-python",
   "name": "python",
   "nbconvert_exporter": "python",
   "pygments_lexer": "ipython3",
   "version": "3.12.8"
  }
 },
 "nbformat": 4,
 "nbformat_minor": 5
}
