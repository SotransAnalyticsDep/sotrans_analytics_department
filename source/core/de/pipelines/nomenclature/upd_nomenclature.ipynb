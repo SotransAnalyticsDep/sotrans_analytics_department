{
 "cells": [
  {
   "cell_type": "code",
   "execution_count": 1,
   "id": "0c0e4345",
   "metadata": {},
   "outputs": [],
   "source": [
    "import os\n",
    "import sys\n",
    "from functools import lru_cache\n",
    "\n",
    "import pandas as pd\n",
    "from loguru import logger\n",
    "\n",
    "sys.path.insert(0, r'C:\\Users\\user\\Desktop\\github\\sad_dev')\n",
    "from source.core.de.connectors import PGConnector"
   ]
  },
  {
   "cell_type": "code",
   "execution_count": 2,
   "id": "6adc1450",
   "metadata": {},
   "outputs": [
    {
     "data": {
      "text/plain": [
       "1"
      ]
     },
     "execution_count": 2,
     "metadata": {},
     "output_type": "execute_result"
    }
   ],
   "source": [
    "logger.remove()\n",
    "logger.add(\n",
    "    sink=sys.stderr,\n",
    "    level='TRACE',\n",
    ")"
   ]
  },
  {
   "cell_type": "code",
   "execution_count": 3,
   "id": "1d17d420",
   "metadata": {},
   "outputs": [],
   "source": [
    "ROOT_FOLDER: str = r'C:\\Users\\user\\YandexDisk\\batch_movement\\reference'\n",
    "FILENAME: str = 'nomenclature.xlsx'"
   ]
  },
  {
   "cell_type": "code",
   "execution_count": 4,
   "id": "68357171",
   "metadata": {},
   "outputs": [
    {
     "name": "stderr",
     "output_type": "stream",
     "text": [
      "\u001b[32m2025-05-15 16:54:15.898\u001b[0m | \u001b[1mINFO    \u001b[0m | \u001b[36msource.core.de.connectors.postgresql\u001b[0m:\u001b[36m__create_engine\u001b[0m:\u001b[36m92\u001b[0m - \u001b[1mНачало создания подключения к базе данных.\u001b[0m\n",
      "\u001b[32m2025-05-15 16:54:15.899\u001b[0m | \u001b[1mINFO    \u001b[0m | \u001b[36msource.core.de.connectors.postgresql\u001b[0m:\u001b[36m__create_connection_string\u001b[0m:\u001b[36m59\u001b[0m - \u001b[1mНачало формирования строки подключения к базе данных.\u001b[0m\n",
      "\u001b[32m2025-05-15 16:54:15.901\u001b[0m | \u001b[31m\u001b[1mERROR   \u001b[0m | \u001b[36msource.core.de.connectors.postgresql\u001b[0m:\u001b[36m__create_connection_string\u001b[0m:\u001b[36m76\u001b[0m - \u001b[31m\u001b[1mНепредвиденная ошибка при создании строки подключения к базе данных: 'postgresql'\u001b[0m\n",
      "\u001b[32m2025-05-15 16:54:15.901\u001b[0m | \u001b[31m\u001b[1mERROR   \u001b[0m | \u001b[36msource.core.de.connectors.postgresql\u001b[0m:\u001b[36m__create_engine\u001b[0m:\u001b[36m100\u001b[0m - \u001b[31m\u001b[1mНепредвиденная ошибка при создании подключения к базе данных: Непредвиденная ошибка при создании строки подключения к базе данных\u001b[0m\n"
     ]
    },
    {
     "ename": "ValueError",
     "evalue": "Непредвиденная ошибка при создании подключения к базе данных",
     "output_type": "error",
     "traceback": [
      "\u001b[31m---------------------------------------------------------------------------\u001b[39m",
      "\u001b[31mKeyError\u001b[39m                                  Traceback (most recent call last)",
      "\u001b[36mFile \u001b[39m\u001b[32m~\\Desktop\\github\\sad_dev\\source\\core\\de\\connectors\\postgresql.py:61\u001b[39m, in \u001b[36mPGConnector.__create_connection_string\u001b[39m\u001b[34m(self)\u001b[39m\n\u001b[32m     60\u001b[39m \u001b[38;5;28;01mwith\u001b[39;00m \u001b[38;5;28mopen\u001b[39m(file=\u001b[38;5;28mself\u001b[39m.__src_path, mode=\u001b[33m'\u001b[39m\u001b[33mr\u001b[39m\u001b[33m'\u001b[39m, encoding=\u001b[33m'\u001b[39m\u001b[33mutf-8\u001b[39m\u001b[33m'\u001b[39m) \u001b[38;5;28;01mas\u001b[39;00m file:\n\u001b[32m---> \u001b[39m\u001b[32m61\u001b[39m     config: Any = \u001b[43msafe_load\u001b[49m\u001b[43m(\u001b[49m\u001b[43mstream\u001b[49m\u001b[43m=\u001b[49m\u001b[43mfile\u001b[49m\u001b[43m)\u001b[49m\u001b[43m[\u001b[49m\u001b[33;43m'\u001b[39;49m\u001b[33;43mpostgresql\u001b[39;49m\u001b[33;43m'\u001b[39;49m\u001b[43m]\u001b[49m\n\u001b[32m     62\u001b[39m     connection_string: \u001b[38;5;28mstr\u001b[39m = (\n\u001b[32m     63\u001b[39m         \u001b[33mf\u001b[39m\u001b[33m'\u001b[39m\u001b[38;5;132;01m{\u001b[39;00mconfig[\u001b[33m'\u001b[39m\u001b[33mdatabase\u001b[39m\u001b[33m'\u001b[39m]\u001b[38;5;132;01m}\u001b[39;00m\u001b[33m+\u001b[39m\u001b[33m'\u001b[39m\n\u001b[32m     64\u001b[39m         + \u001b[33mf\u001b[39m\u001b[33m'\u001b[39m\u001b[38;5;132;01m{\u001b[39;00mconfig[\u001b[33m'\u001b[39m\u001b[33mdriver\u001b[39m\u001b[33m'\u001b[39m]\u001b[38;5;132;01m}\u001b[39;00m\u001b[33m://\u001b[39m\u001b[33m'\u001b[39m\n\u001b[32m   (...)\u001b[39m\u001b[32m     69\u001b[39m         + \u001b[33mf\u001b[39m\u001b[33m'\u001b[39m\u001b[38;5;132;01m{\u001b[39;00m\u001b[38;5;28mself\u001b[39m.__database_name\u001b[38;5;132;01m}\u001b[39;00m\u001b[33m'\u001b[39m\n\u001b[32m     70\u001b[39m     )\n",
      "\u001b[31mKeyError\u001b[39m: 'postgresql'",
      "\nDuring handling of the above exception, another exception occurred:\n",
      "\u001b[31mValueError\u001b[39m                                Traceback (most recent call last)",
      "\u001b[36mFile \u001b[39m\u001b[32m~\\Desktop\\github\\sad_dev\\source\\core\\de\\connectors\\postgresql.py:93\u001b[39m, in \u001b[36mPGConnector.__create_engine\u001b[39m\u001b[34m(self)\u001b[39m\n\u001b[32m     92\u001b[39m logger.info(\u001b[33m'\u001b[39m\u001b[33mНачало создания подключения к базе данных.\u001b[39m\u001b[33m'\u001b[39m)\n\u001b[32m---> \u001b[39m\u001b[32m93\u001b[39m connection_string: \u001b[38;5;28mstr\u001b[39m = \u001b[38;5;28;43mself\u001b[39;49m\u001b[43m.\u001b[49m\u001b[43m__create_connection_string\u001b[49m\u001b[43m(\u001b[49m\u001b[43m)\u001b[49m\n\u001b[32m     94\u001b[39m engine: Engine = create_engine(url=connection_string, echo=\u001b[38;5;28mself\u001b[39m.__is_echo)\n",
      "\u001b[36mFile \u001b[39m\u001b[32m~\\Desktop\\github\\sad_dev\\source\\core\\de\\connectors\\postgresql.py:77\u001b[39m, in \u001b[36mPGConnector.__create_connection_string\u001b[39m\u001b[34m(self)\u001b[39m\n\u001b[32m     76\u001b[39m logger.error(\u001b[33mf\u001b[39m\u001b[33m'\u001b[39m\u001b[38;5;132;01m{\u001b[39;00merr_msg\u001b[38;5;132;01m}\u001b[39;00m\u001b[33m: \u001b[39m\u001b[38;5;132;01m{\u001b[39;00me\u001b[38;5;132;01m}\u001b[39;00m\u001b[33m'\u001b[39m)\n\u001b[32m---> \u001b[39m\u001b[32m77\u001b[39m \u001b[38;5;28;01mraise\u001b[39;00m \u001b[38;5;167;01mValueError\u001b[39;00m(err_msg)\n",
      "\u001b[31mValueError\u001b[39m: Непредвиденная ошибка при создании строки подключения к базе данных",
      "\nDuring handling of the above exception, another exception occurred:\n",
      "\u001b[31mValueError\u001b[39m                                Traceback (most recent call last)",
      "\u001b[36mCell\u001b[39m\u001b[36m \u001b[39m\u001b[32mIn[4]\u001b[39m\u001b[32m, line 1\u001b[39m\n\u001b[32m----> \u001b[39m\u001b[32m1\u001b[39m ENGINE = \u001b[43mPGConnector\u001b[49m\u001b[43m(\u001b[49m\u001b[43m)\u001b[49m.engine\n",
      "\u001b[36mFile \u001b[39m\u001b[32m~\\Desktop\\github\\sad_dev\\source\\core\\de\\connectors\\postgresql.py:41\u001b[39m, in \u001b[36mPGConnector.__init__\u001b[39m\u001b[34m(self, config_path, db_name, is_echo)\u001b[39m\n\u001b[32m     39\u001b[39m \u001b[38;5;28mself\u001b[39m.__database_name: \u001b[38;5;28mstr\u001b[39m = db_name\n\u001b[32m     40\u001b[39m \u001b[38;5;28mself\u001b[39m.__is_echo: \u001b[38;5;28mbool\u001b[39m = is_echo\n\u001b[32m---> \u001b[39m\u001b[32m41\u001b[39m \u001b[38;5;28mself\u001b[39m._engine: Engine = \u001b[38;5;28;43mself\u001b[39;49m\u001b[43m.\u001b[49m\u001b[43m__create_engine\u001b[49m\u001b[43m(\u001b[49m\u001b[43m)\u001b[49m\n",
      "\u001b[36mFile \u001b[39m\u001b[32m~\\Desktop\\github\\sad_dev\\source\\core\\de\\connectors\\postgresql.py:101\u001b[39m, in \u001b[36mPGConnector.__create_engine\u001b[39m\u001b[34m(self)\u001b[39m\n\u001b[32m     99\u001b[39m err_msg: \u001b[38;5;28mstr\u001b[39m = \u001b[33m'\u001b[39m\u001b[33mНепредвиденная ошибка при создании подключения к базе данных\u001b[39m\u001b[33m'\u001b[39m\n\u001b[32m    100\u001b[39m logger.error(\u001b[33mf\u001b[39m\u001b[33m'\u001b[39m\u001b[38;5;132;01m{\u001b[39;00merr_msg\u001b[38;5;132;01m}\u001b[39;00m\u001b[33m: \u001b[39m\u001b[38;5;132;01m{\u001b[39;00me\u001b[38;5;132;01m}\u001b[39;00m\u001b[33m'\u001b[39m)\n\u001b[32m--> \u001b[39m\u001b[32m101\u001b[39m \u001b[38;5;28;01mraise\u001b[39;00m \u001b[38;5;167;01mValueError\u001b[39;00m(err_msg)\n",
      "\u001b[31mValueError\u001b[39m: Непредвиденная ошибка при создании подключения к базе данных"
     ]
    }
   ],
   "source": [
    "ENGINE = PGConnector().engine"
   ]
  },
  {
   "cell_type": "code",
   "execution_count": null,
   "id": "def9e204",
   "metadata": {},
   "outputs": [],
   "source": [
    "@lru_cache(maxsize=32)\n",
    "def create_dataframe() -> pd.DataFrame:\n",
    "    dataframe: pd.DataFrame = pd.read_excel(\n",
    "        io=os.path.join(ROOT_FOLDER, FILENAME),\n",
    "        engine='openpyxl',\n",
    "        dtype='string'\n",
    "    )\n",
    "    return dataframe"
   ]
  },
  {
   "cell_type": "code",
   "execution_count": null,
   "id": "a851957d",
   "metadata": {},
   "outputs": [],
   "source": [
    "dataframe: pd.DataFrame = create_dataframe()"
   ]
  },
  {
   "cell_type": "code",
   "execution_count": null,
   "id": "181ce92f",
   "metadata": {},
   "outputs": [],
   "source": [
    "dataframe.info(memory_usage='deep')"
   ]
  },
  {
   "cell_type": "code",
   "execution_count": null,
   "id": "3dcd31c3",
   "metadata": {},
   "outputs": [],
   "source": [
    "# Замена пропусков на строки '_нет данных';\n",
    "dataframe.fillna('_нет данных', inplace=True)"
   ]
  },
  {
   "cell_type": "code",
   "execution_count": null,
   "id": "fd72a529",
   "metadata": {},
   "outputs": [],
   "source": [
    "dataframe.info(memory_usage='deep')"
   ]
  },
  {
   "cell_type": "code",
   "execution_count": null,
   "id": "2c21a8bb",
   "metadata": {},
   "outputs": [],
   "source": [
    "for column in dataframe.columns:\n",
    "    try:\n",
    "        logger.info(f'Преобразование строк столбца \"{column}\" к нижнему регистру;')\n",
    "        dataframe[column] = dataframe[column].str.lower()\n",
    "        logger.success(f'Преобразование строк столбца \"{column}\" к нижнему регистру выполнен;')\n",
    "    \n",
    "    except Exception as e:\n",
    "        logger.error(f'Непредвиденная ошибка: {e};')"
   ]
  },
  {
   "cell_type": "code",
   "execution_count": null,
   "id": "4e5a6ca9",
   "metadata": {},
   "outputs": [],
   "source": [
    "dataframe.info(memory_usage='deep')"
   ]
  },
  {
   "cell_type": "code",
   "execution_count": null,
   "id": "d1e24292",
   "metadata": {},
   "outputs": [],
   "source": [
    "# Расчёт половины строк в DataFrame;\n",
    "df_thrd_part = dataframe.shape[0] // 3\n",
    "logger.trace(f'Количество строк в DataFrame: {dataframe.shape[0]}; Треть: {df_thrd_part};')\n",
    "\n",
    "# Определение необходимости и преобразование типов данных к категориальному;\n",
    "for column in dataframe.columns:\n",
    "    logger.trace(f'Тип данных для столбца \"{column}\": {dataframe[column].dtype}.')\n",
    "    \n",
    "    # Определение количества уникальных значений в выбранном столбце;\n",
    "    qnt_unq_val = dataframe[column].nunique()\n",
    "    logger.trace(f'Количество уникальных значений: {qnt_unq_val}.')\n",
    "    \n",
    "    # Если количество уникальных значений менее половины строк датафрейма, то преобразовать столбец к категориальному типу данных.\n",
    "    if qnt_unq_val <= df_thrd_part:\n",
    "        logger.debug('Количество уникальных значений менее трети строк датафрейма;')\n",
    "        logger.info(f'Преобразование столбца \"{column}\" к категориальному типу данных;')\n",
    "        # Преобразование типа данных к категориальному;\n",
    "        try:\n",
    "            dataframe[column] = dataframe[column].astype(dtype='category')\n",
    "            logger.success(f'Столбец \"{column}\" преобразован к категориальному типу данных;')\n",
    "        except Exception as e:\n",
    "            logger.error(f'Непредвиденная ошибка: {e};')\n",
    "\n",
    "    # Если количество уникальных значений больше половины строк датафрейма, то преобразование типа данных не требуется.\n",
    "    else:\n",
    "        logger.debug('Количество уникальных значений больше трети строк датафрейма;')\n",
    "        logger.info(f'Преобразование типов данных для столбца \"{column}\" не требуется;')"
   ]
  },
  {
   "cell_type": "code",
   "execution_count": null,
   "id": "41fbedb7",
   "metadata": {},
   "outputs": [],
   "source": [
    "dataframe.info(memory_usage='deep')"
   ]
  },
  {
   "cell_type": "code",
   "execution_count": null,
   "id": "7e5162f3",
   "metadata": {},
   "outputs": [],
   "source": [
    "# Получить текущие данные из базы данных PostgreSQL;\n",
    "query: str = \"\"\"\n",
    "SELECT\n",
    "    *\n",
    "FROM\n",
    "    constant.nomenclature\n",
    "\"\"\""
   ]
  },
  {
   "cell_type": "code",
   "execution_count": null,
   "id": "e0e6e1eb",
   "metadata": {},
   "outputs": [],
   "source": [
    "with "
   ]
  },
  {
   "cell_type": "code",
   "execution_count": null,
   "id": "f2585cdc",
   "metadata": {},
   "outputs": [],
   "source": [
    "dataframe"
   ]
  }
 ],
 "metadata": {
  "kernelspec": {
   "display_name": ".venv (3.13.2)",
   "language": "python",
   "name": "python3"
  },
  "language_info": {
   "codemirror_mode": {
    "name": "ipython",
    "version": 3
   },
   "file_extension": ".py",
   "mimetype": "text/x-python",
   "name": "python",
   "nbconvert_exporter": "python",
   "pygments_lexer": "ipython3",
   "version": "3.13.2"
  }
 },
 "nbformat": 4,
 "nbformat_minor": 5
}
